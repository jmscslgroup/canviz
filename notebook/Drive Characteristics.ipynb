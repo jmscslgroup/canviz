{
 "cells": [
  {
   "cell_type": "markdown",
   "metadata": {},
   "source": [
    "# Drive characteristics using `strym`"
   ]
  },
  {
   "cell_type": "markdown",
   "metadata": {},
   "source": [
    "In this notebook, we will generate characteristics of a particular drive. Please ensure strym is installed correctly"
   ]
  },
  {
   "cell_type": "markdown",
   "metadata": {},
   "source": [
    "## Installing `strym`\n",
    "First, we are required to install `strym`. For that, we will just use github devtools functionality.\n",
    "Even if you have installed `strym` previously, you should reinstall for latest version of the package."
   ]
  },
  {
   "cell_type": "code",
   "execution_count": 67,
   "metadata": {},
   "outputs": [
    {
     "name": "stdout",
     "output_type": "stream",
     "text": [
      "Collecting git+https://github.com/jmscslgroup/strym\n",
      "  Cloning https://github.com/jmscslgroup/strym to /private/var/folders/qb/xzd2v2fn741b459s8jvfjhk4000zl1/T/pip-req-build-beww1_nv\n",
      "  Running command git clone -q https://github.com/jmscslgroup/strym /private/var/folders/qb/xzd2v2fn741b459s8jvfjhk4000zl1/T/pip-req-build-beww1_nv\n",
      "Building wheels for collected packages: strym\n",
      "  Building wheel for strym (setup.py) ... \u001b[?25ldone\n",
      "\u001b[?25h  Created wheel for strym: filename=strym-0.1-cp37-none-any.whl size=19497 sha256=5d2307695f1b9342691c1e877220c65b4fb504a81866091fd27fed40277af038\n",
      "  Stored in directory: /private/var/folders/qb/xzd2v2fn741b459s8jvfjhk4000zl1/T/pip-ephem-wheel-cache-en2ca1es/wheels/16/8c/7f/7ab5f7b26c83fdbe3972de24a6aeb113cf4a35c9125d065c9d\n",
      "Successfully built strym\n",
      "Installing collected packages: strym\n",
      "  Found existing installation: strym 0.1\n",
      "    Uninstalling strym-0.1:\n",
      "      Successfully uninstalled strym-0.1\n",
      "Successfully installed strym-0.1\n"
     ]
    }
   ],
   "source": [
    "# Installing strym using pip from git\n",
    "!pip install --upgrade --no-deps --force-reinstall git+https://github.com/jmscslgroup/strym"
   ]
  },
  {
   "cell_type": "markdown",
   "metadata": {},
   "source": [
    "## Importing packages\n",
    "Import required packages"
   ]
  },
  {
   "cell_type": "code",
   "execution_count": 97,
   "metadata": {},
   "outputs": [],
   "source": [
    "from strym import strymread\n",
    "import strym\n",
    "import math\n",
    "import time\n",
    "import matplotlib.pyplot as plt\n",
    "import numpy as np\n",
    "import scipy.integrate as integrate"
   ]
  },
  {
   "cell_type": "markdown",
   "metadata": {},
   "source": [
    "## Specify Data Location"
   ]
  },
  {
   "cell_type": "code",
   "execution_count": 229,
   "metadata": {},
   "outputs": [],
   "source": [
    "datafolder = \"/Users/sprinkle/work/research/circles/cyverse/2020_03_03/\"\n",
    "import glob\n",
    "csvlist = glob.glob(datafolder+\"*.csv\")"
   ]
  },
  {
   "cell_type": "code",
   "execution_count": 230,
   "metadata": {},
   "outputs": [
    {
     "name": "stdout",
     "output_type": "stream",
     "text": [
      "Total number of datafiles in /Users/sprinkle/work/research/circles/cyverse/2020_03_03/ is 7.\n"
     ]
    }
   ],
   "source": [
    "num_of_files = len(csvlist)\n",
    "print(\"Total number of datafiles in {} is {}.\".format(datafolder, num_of_files))"
   ]
  },
  {
   "cell_type": "markdown",
   "metadata": {},
   "source": [
    "## Analysis\n",
    "### 1. CSV file containing all messages\n",
    "In this section, we will extract a subset of the CSV-formatted CAN Data in order to produce summary information of a specific drive."
   ]
  },
  {
   "cell_type": "code",
   "execution_count": 239,
   "metadata": {},
   "outputs": [
    {
     "name": "stdout",
     "output_type": "stream",
     "text": [
      "Reading /Users/sprinkle/work/research/circles/cyverse/2020_03_03/2020-03-03-19-32-39-704415__CAN_Messages.csv\n",
      "  Duration of this drive is 1306.5440361499786 seconds (21 minutes 46 seconds).\n",
      "  Starting date/time of the drive is Tue Mar  3 19:32:40 2020\n",
      "  The trip was 8.649056945562362 km (5.362415306248665 miles)\n",
      "Reading /Users/sprinkle/work/research/circles/cyverse/2020_03_03/2020-03-03-10-35-13-966077__CAN_Messages.csv\n",
      "  Duration of this drive is 2712.505082845688 seconds (45 minutes 12 seconds).\n",
      "  Starting date/time of the drive is Tue Mar  3 10:35:14 2020\n",
      "  The trip was 30.322010043714446 km (18.799646227102958 miles)\n",
      "Reading /Users/sprinkle/work/research/circles/cyverse/2020_03_03/2020-03-03-19-57-11-286348__CAN_Messages.csv\n",
      "  Duration of this drive is 1022.5458858013153 seconds (17 minutes 2 seconds).\n",
      "  Starting date/time of the drive is Tue Mar  3 19:57:11 2020\n",
      "  The trip was 14.35129696881142 km (8.89780412066308 miles)\n",
      "Reading /Users/sprinkle/work/research/circles/cyverse/2020_03_03/2020-03-03-15-36-24-479038__CAN_Messages.csv\n",
      "  Duration of this drive is 2682.178460597992 seconds (44 minutes 42 seconds).\n",
      "  Starting date/time of the drive is Tue Mar  3 15:36:24 2020\n",
      "  The trip was 22.91947295875549 km (14.210073234428403 miles)\n",
      "Reading /Users/sprinkle/work/research/circles/cyverse/2020_03_03/2020-03-03-15-27-20-702814__CAN_Messages.csv\n",
      "  Duration of this drive is 537.0137932300568 seconds (8 minutes 57 seconds).\n",
      "  Starting date/time of the drive is Tue Mar  3 15:27:20 2020\n",
      "  The trip was 2.5852674614601665 km (1.6028658261053033 miles)\n",
      "Reading /Users/sprinkle/work/research/circles/cyverse/2020_03_03/2020-03-03-18-29-15-641040__CAN_Messages.csv\n",
      "  Duration of this drive is 2709.373079061508 seconds (45 minutes 9 seconds).\n",
      "  Starting date/time of the drive is Tue Mar  3 18:29:15 2020\n",
      "  The trip was 19.663673753626476 km (12.191477727248415 miles)\n",
      "Reading /Users/sprinkle/work/research/circles/cyverse/2020_03_03/2020-03-03-18-09-36-362663__CAN_Messages.csv\n",
      "  Duration of this drive is 1169.9004411697388 seconds (19 minutes 29 seconds).\n",
      "  Starting date/time of the drive is Tue Mar  3 18:09:36 2020\n",
      "  The trip was 5.427177541277144 km (3.36485007559183 miles)\n"
     ]
    }
   ],
   "source": [
    "dbcfile = '../examples/newToyotacode.dbc'\n",
    "for i in range(num_of_files):\n",
    "    r0 = strymread(csvfile=csvlist[i], dbcfile=dbcfile)\n",
    "    print(f'Reading {csvlist[i]}')\n",
    "    duration1 = r0.dataframe['Time'][len(r0.dataframe)-1] - r0.dataframe['Time'][0]\n",
    "    duration_str = f'  Duration of this drive is {duration1} seconds ({math.trunc(int(duration1*1000)/(1000*60))} minutes {math.trunc(duration1 % 60)} seconds).'\n",
    "    start_str = f'  Starting date/time of the drive is {time.ctime(r0.dataframe[\"Time\"][0])}'\n",
    "\n",
    "    # get the speed timeseries information from the data file\n",
    "    speed_ts = r0.ts_speed()\n",
    "    # turn the timeseries into a python array for integration\n",
    "    # transform from km/hr by multiplying 1000m/1km and 1 hr/3600s to get m/s\n",
    "    speed_ar = np.array(speed_ts['Message'])*1000/3600\n",
    "#     speed_ar[0:-1]*1000/3600\n",
    "    # find the difference of the time values\n",
    "#     dt = np.diff(np.array(speed_ts['Time']))\n",
    "    dt = np.diff(speed_ts['Time'])\n",
    "    # trapezoidal integration, divide by 1000 to get total km (rather than m)\n",
    "    # Commented out: this produces negative values that don't make sense\n",
    "#     km_ts = np.trapz(y=speed_ar[0:-1],x=dt)/1000\n",
    "    km_ts = np.trapz(y=speed_ar,x=np.array(speed_ts['Time']))/1000\n",
    "    # commented out: this produces incorrect values that seem to be off by a factor of around 2, depending\n",
    "    km_dx = np.trapz(y=speed_ar,dx=0.02)/1000\n",
    "    # need to convert km/hr to km/s to get km later when integrating\n",
    "    distance_str = f'  The trip was {km_ts} km ({km_ts*3.1/5} miles)'\n",
    "#     distance_str_dx f'  The dx version is {km_dx} km ({km_dx*3.1/5} miles)'\n",
    "\n",
    "    #speed_ts['Time']\n",
    "    #f'Total miles driven is {km_ts}'\n",
    "    print(duration_str)\n",
    "    print(start_str)\n",
    "    print(distance_str)\n"
   ]
  }
 ],
 "metadata": {
  "kernelspec": {
   "display_name": "Python 3",
   "language": "python",
   "name": "python3"
  },
  "language_info": {
   "codemirror_mode": {
    "name": "ipython",
    "version": 3
   },
   "file_extension": ".py",
   "mimetype": "text/x-python",
   "name": "python",
   "nbconvert_exporter": "python",
   "pygments_lexer": "ipython3",
   "version": "3.7.4"
  }
 },
 "nbformat": 4,
 "nbformat_minor": 4
}
