{
 "cells": [
  {
   "cell_type": "markdown",
   "metadata": {},
   "source": [
    "# Drive characteristics using `strym`"
   ]
  },
  {
   "cell_type": "markdown",
   "metadata": {},
   "source": [
    "In this notebook, we will generate characteristics of a particular drive. Please ensure strym is installed correctly"
   ]
  },
  {
   "cell_type": "markdown",
   "metadata": {},
   "source": [
    "## Installing `strym`\n",
    "First, we are required to install `strym`. For that, we will just use github devtools functionality.\n",
    "Even if you have installed `strym` previously, you should reinstall for latest version of the package."
   ]
  },
  {
   "cell_type": "code",
   "execution_count": 4,
   "metadata": {},
   "outputs": [
    {
     "name": "stdout",
     "output_type": "stream",
     "text": [
      "Collecting dotenv\n",
      "  Using cached https://files.pythonhosted.org/packages/e2/46/3754073706e31670eed18bfa8a879305b56a471db15f20523c2427b10078/dotenv-0.0.5.tar.gz\n",
      "\u001b[31m    ERROR: Command errored out with exit status 1:\n",
      "     command: /Users/sprinkle/opt/anaconda3/bin/python -c 'import sys, setuptools, tokenize; sys.argv[0] = '\"'\"'/private/var/folders/qb/xzd2v2fn741b459s8jvfjhk4000zl1/T/pip-install-ukkob8p5/dotenv/setup.py'\"'\"'; __file__='\"'\"'/private/var/folders/qb/xzd2v2fn741b459s8jvfjhk4000zl1/T/pip-install-ukkob8p5/dotenv/setup.py'\"'\"';f=getattr(tokenize, '\"'\"'open'\"'\"', open)(__file__);code=f.read().replace('\"'\"'\\r\\n'\"'\"', '\"'\"'\\n'\"'\"');f.close();exec(compile(code, __file__, '\"'\"'exec'\"'\"'))' egg_info --egg-base pip-egg-info\n",
      "         cwd: /private/var/folders/qb/xzd2v2fn741b459s8jvfjhk4000zl1/T/pip-install-ukkob8p5/dotenv/\n",
      "    Complete output (68 lines):\n",
      "    Traceback (most recent call last):\n",
      "      File \"/Users/sprinkle/opt/anaconda3/lib/python3.7/site-packages/setuptools/sandbox.py\", line 154, in save_modules\n",
      "        yield saved\n",
      "      File \"/Users/sprinkle/opt/anaconda3/lib/python3.7/site-packages/setuptools/sandbox.py\", line 194, in setup_context\n",
      "        __import__('setuptools')\n",
      "      File \"/private/var/folders/qb/xzd2v2fn741b459s8jvfjhk4000zl1/T/easy_install-jijrjnag/distribute-0.7.3/setuptools/__init__.py\", line 2, in <module>\n",
      "      File \"/private/var/folders/qb/xzd2v2fn741b459s8jvfjhk4000zl1/T/easy_install-jijrjnag/distribute-0.7.3/setuptools/extension.py\", line 5, in <module>\n",
      "      File \"/private/var/folders/qb/xzd2v2fn741b459s8jvfjhk4000zl1/T/easy_install-jijrjnag/distribute-0.7.3/setuptools/dist.py\", line 7, in <module>\n",
      "      File \"/private/var/folders/qb/xzd2v2fn741b459s8jvfjhk4000zl1/T/easy_install-jijrjnag/distribute-0.7.3/setuptools/command/__init__.py\", line 8, in <module>\n",
      "      File \"/private/var/folders/qb/xzd2v2fn741b459s8jvfjhk4000zl1/T/easy_install-jijrjnag/distribute-0.7.3/setuptools/command/install_scripts.py\", line 3, in <module>\n",
      "      File \"/private/var/folders/qb/xzd2v2fn741b459s8jvfjhk4000zl1/T/easy_install-jijrjnag/distribute-0.7.3/pkg_resources.py\", line 1518, in <module>\n",
      "    AttributeError: module 'importlib._bootstrap' has no attribute 'SourceFileLoader'\n",
      "    \n",
      "    During handling of the above exception, another exception occurred:\n",
      "    \n",
      "    Traceback (most recent call last):\n",
      "      File \"<string>\", line 1, in <module>\n",
      "      File \"/private/var/folders/qb/xzd2v2fn741b459s8jvfjhk4000zl1/T/pip-install-ukkob8p5/dotenv/setup.py\", line 23, in <module>\n",
      "        scripts=['scripts/dotenv']\n",
      "      File \"/Users/sprinkle/opt/anaconda3/lib/python3.7/site-packages/setuptools/__init__.py\", line 144, in setup\n",
      "        _install_setup_requires(attrs)\n",
      "      File \"/Users/sprinkle/opt/anaconda3/lib/python3.7/site-packages/setuptools/__init__.py\", line 139, in _install_setup_requires\n",
      "        dist.fetch_build_eggs(dist.setup_requires)\n",
      "      File \"/Users/sprinkle/opt/anaconda3/lib/python3.7/site-packages/setuptools/dist.py\", line 720, in fetch_build_eggs\n",
      "        replace_conflicting=True,\n",
      "      File \"/Users/sprinkle/opt/anaconda3/lib/python3.7/site-packages/pkg_resources/__init__.py\", line 782, in resolve\n",
      "        replace_conflicting=replace_conflicting\n",
      "      File \"/Users/sprinkle/opt/anaconda3/lib/python3.7/site-packages/pkg_resources/__init__.py\", line 1065, in best_match\n",
      "        return self.obtain(req, installer)\n",
      "      File \"/Users/sprinkle/opt/anaconda3/lib/python3.7/site-packages/pkg_resources/__init__.py\", line 1077, in obtain\n",
      "        return installer(requirement)\n",
      "      File \"/Users/sprinkle/opt/anaconda3/lib/python3.7/site-packages/setuptools/dist.py\", line 787, in fetch_build_egg\n",
      "        return cmd.easy_install(req)\n",
      "      File \"/Users/sprinkle/opt/anaconda3/lib/python3.7/site-packages/setuptools/command/easy_install.py\", line 679, in easy_install\n",
      "        return self.install_item(spec, dist.location, tmpdir, deps)\n",
      "      File \"/Users/sprinkle/opt/anaconda3/lib/python3.7/site-packages/setuptools/command/easy_install.py\", line 705, in install_item\n",
      "        dists = self.install_eggs(spec, download, tmpdir)\n",
      "      File \"/Users/sprinkle/opt/anaconda3/lib/python3.7/site-packages/setuptools/command/easy_install.py\", line 890, in install_eggs\n",
      "        return self.build_and_install(setup_script, setup_base)\n",
      "      File \"/Users/sprinkle/opt/anaconda3/lib/python3.7/site-packages/setuptools/command/easy_install.py\", line 1158, in build_and_install\n",
      "        self.run_setup(setup_script, setup_base, args)\n",
      "      File \"/Users/sprinkle/opt/anaconda3/lib/python3.7/site-packages/setuptools/command/easy_install.py\", line 1144, in run_setup\n",
      "        run_setup(setup_script, args)\n",
      "      File \"/Users/sprinkle/opt/anaconda3/lib/python3.7/site-packages/setuptools/sandbox.py\", line 233, in run_setup\n",
      "        with setup_context(setup_dir):\n",
      "      File \"/Users/sprinkle/opt/anaconda3/lib/python3.7/contextlib.py\", line 112, in __enter__\n",
      "        return next(self.gen)\n",
      "      File \"/Users/sprinkle/opt/anaconda3/lib/python3.7/site-packages/setuptools/sandbox.py\", line 195, in setup_context\n",
      "        yield\n",
      "      File \"/Users/sprinkle/opt/anaconda3/lib/python3.7/contextlib.py\", line 130, in __exit__\n",
      "        self.gen.throw(type, value, traceback)\n",
      "      File \"/Users/sprinkle/opt/anaconda3/lib/python3.7/site-packages/setuptools/sandbox.py\", line 166, in save_modules\n",
      "        saved_exc.resume()\n",
      "      File \"/Users/sprinkle/opt/anaconda3/lib/python3.7/site-packages/setuptools/sandbox.py\", line 141, in resume\n",
      "        six.reraise(type, exc, self._tb)\n",
      "      File \"/Users/sprinkle/opt/anaconda3/lib/python3.7/site-packages/setuptools/_vendor/six.py\", line 685, in reraise\n",
      "        raise value.with_traceback(tb)\n",
      "      File \"/Users/sprinkle/opt/anaconda3/lib/python3.7/site-packages/setuptools/sandbox.py\", line 154, in save_modules\n",
      "        yield saved\n",
      "      File \"/Users/sprinkle/opt/anaconda3/lib/python3.7/site-packages/setuptools/sandbox.py\", line 194, in setup_context\n",
      "        __import__('setuptools')\n",
      "      File \"/private/var/folders/qb/xzd2v2fn741b459s8jvfjhk4000zl1/T/easy_install-jijrjnag/distribute-0.7.3/setuptools/__init__.py\", line 2, in <module>\n",
      "      File \"/private/var/folders/qb/xzd2v2fn741b459s8jvfjhk4000zl1/T/easy_install-jijrjnag/distribute-0.7.3/setuptools/extension.py\", line 5, in <module>\n",
      "      File \"/private/var/folders/qb/xzd2v2fn741b459s8jvfjhk4000zl1/T/easy_install-jijrjnag/distribute-0.7.3/setuptools/dist.py\", line 7, in <module>\n",
      "      File \"/private/var/folders/qb/xzd2v2fn741b459s8jvfjhk4000zl1/T/easy_install-jijrjnag/distribute-0.7.3/setuptools/command/__init__.py\", line 8, in <module>\n",
      "      File \"/private/var/folders/qb/xzd2v2fn741b459s8jvfjhk4000zl1/T/easy_install-jijrjnag/distribute-0.7.3/setuptools/command/install_scripts.py\", line 3, in <module>\n",
      "      File \"/private/var/folders/qb/xzd2v2fn741b459s8jvfjhk4000zl1/T/easy_install-jijrjnag/distribute-0.7.3/pkg_resources.py\", line 1518, in <module>\n",
      "    AttributeError: module 'importlib._bootstrap' has no attribute 'SourceFileLoader'\n",
      "    ----------------------------------------\u001b[0m\n",
      "\u001b[31mERROR: Command errored out with exit status 1: python setup.py egg_info Check the logs for full command output.\u001b[0m\n",
      "Collecting git+https://github.com/jmscslgroup/strym\n",
      "  Cloning https://github.com/jmscslgroup/strym to /private/var/folders/qb/xzd2v2fn741b459s8jvfjhk4000zl1/T/pip-req-build-5vykkfj_\n",
      "  Running command git clone -q https://github.com/jmscslgroup/strym /private/var/folders/qb/xzd2v2fn741b459s8jvfjhk4000zl1/T/pip-req-build-5vykkfj_\n",
      "Building wheels for collected packages: strym\n",
      "  Building wheel for strym (setup.py) ... \u001b[?25ldone\n",
      "\u001b[?25h  Created wheel for strym: filename=strym-0.1.5-cp37-none-any.whl size=36173 sha256=636cec49a0618e59962e706b769dea077cf111a3a0068054cd0ab1f68b0f54e3\n",
      "  Stored in directory: /private/var/folders/qb/xzd2v2fn741b459s8jvfjhk4000zl1/T/pip-ephem-wheel-cache-6wqtp63u/wheels/16/8c/7f/7ab5f7b26c83fdbe3972de24a6aeb113cf4a35c9125d065c9d\n",
      "Successfully built strym\n",
      "Installing collected packages: strym\n",
      "  Found existing installation: strym 0.1.5\n",
      "    Uninstalling strym-0.1.5:\n",
      "      Successfully uninstalled strym-0.1.5\n",
      "Successfully installed strym-0.1.5\n"
     ]
    }
   ],
   "source": [
    "# Installing strym using pip from git\n",
    "#!pip install gmplot gmaps googlemaps dotenv\n",
    "!pip install dotenv\n",
    "#!pip install --upgrade --no-deps --force-reinstall git+https://github.com/jmscslgroup/strym\n",
    "!pip install --upgrade --no-deps --force-reinstall git+https://github.com/jmscslgroup/strym"
   ]
  },
  {
   "cell_type": "markdown",
   "metadata": {},
   "source": [
    "## Importing packages\n",
    "Import required packages"
   ]
  },
  {
   "cell_type": "code",
   "execution_count": 2,
   "metadata": {},
   "outputs": [
    {
     "ename": "ModuleNotFoundError",
     "evalue": "No module named 'dotenv'",
     "output_type": "error",
     "traceback": [
      "\u001b[0;31m---------------------------------------------------------------------------\u001b[0m",
      "\u001b[0;31mModuleNotFoundError\u001b[0m                       Traceback (most recent call last)",
      "\u001b[0;32m<ipython-input-2-c6acee1e28d8>\u001b[0m in \u001b[0;36m<module>\u001b[0;34m\u001b[0m\n\u001b[1;32m      1\u001b[0m \u001b[0;31m#from strym import strymread\u001b[0m\u001b[0;34m\u001b[0m\u001b[0;34m\u001b[0m\u001b[0;34m\u001b[0m\u001b[0m\n\u001b[0;32m----> 2\u001b[0;31m \u001b[0;32mimport\u001b[0m \u001b[0mstrym\u001b[0m\u001b[0;34m\u001b[0m\u001b[0;34m\u001b[0m\u001b[0m\n\u001b[0m\u001b[1;32m      3\u001b[0m \u001b[0;32mimport\u001b[0m \u001b[0mmath\u001b[0m\u001b[0;34m\u001b[0m\u001b[0;34m\u001b[0m\u001b[0m\n\u001b[1;32m      4\u001b[0m \u001b[0;32mimport\u001b[0m \u001b[0mtime\u001b[0m\u001b[0;34m\u001b[0m\u001b[0;34m\u001b[0m\u001b[0m\n\u001b[1;32m      5\u001b[0m \u001b[0;32mimport\u001b[0m \u001b[0mmatplotlib\u001b[0m\u001b[0;34m.\u001b[0m\u001b[0mpyplot\u001b[0m \u001b[0;32mas\u001b[0m \u001b[0mplt\u001b[0m\u001b[0;34m\u001b[0m\u001b[0;34m\u001b[0m\u001b[0m\n",
      "\u001b[0;32m~/opt/anaconda3/lib/python3.7/site-packages/strym/__init__.py\u001b[0m in \u001b[0;36m<module>\u001b[0;34m\u001b[0m\n\u001b[1;32m      4\u001b[0m \u001b[0;32mfrom\u001b[0m \u001b[0;34m.\u001b[0m\u001b[0mstrym\u001b[0m \u001b[0;32mimport\u001b[0m \u001b[0m__email__\u001b[0m\u001b[0;34m\u001b[0m\u001b[0;34m\u001b[0m\u001b[0m\n\u001b[1;32m      5\u001b[0m \u001b[0;32mfrom\u001b[0m \u001b[0;34m.\u001b[0m\u001b[0mstrymread\u001b[0m \u001b[0;32mimport\u001b[0m \u001b[0;34m*\u001b[0m\u001b[0;34m\u001b[0m\u001b[0;34m\u001b[0m\u001b[0m\n\u001b[0;32m----> 6\u001b[0;31m \u001b[0;32mfrom\u001b[0m \u001b[0;34m.\u001b[0m\u001b[0mstrymmap\u001b[0m \u001b[0;32mimport\u001b[0m \u001b[0mstrymmap\u001b[0m\u001b[0;34m\u001b[0m\u001b[0;34m\u001b[0m\u001b[0m\n\u001b[0m\u001b[1;32m      7\u001b[0m \u001b[0;32mfrom\u001b[0m \u001b[0;34m.\u001b[0m\u001b[0mDBC_Read_Tools\u001b[0m \u001b[0;32mimport\u001b[0m \u001b[0;34m*\u001b[0m\u001b[0;34m\u001b[0m\u001b[0;34m\u001b[0m\u001b[0m\n",
      "\u001b[0;32m~/opt/anaconda3/lib/python3.7/site-packages/strym/strymmap.py\u001b[0m in \u001b[0;36m<module>\u001b[0;34m\u001b[0m\n\u001b[1;32m     68\u001b[0m \u001b[0;32mimport\u001b[0m \u001b[0mgmplot\u001b[0m\u001b[0;34m\u001b[0m\u001b[0;34m\u001b[0m\u001b[0m\n\u001b[1;32m     69\u001b[0m \u001b[0;32mimport\u001b[0m \u001b[0mgmaps\u001b[0m\u001b[0;34m\u001b[0m\u001b[0;34m\u001b[0m\u001b[0m\n\u001b[0;32m---> 70\u001b[0;31m \u001b[0;32mfrom\u001b[0m \u001b[0mdotenv\u001b[0m \u001b[0;32mimport\u001b[0m \u001b[0mload_dotenv\u001b[0m\u001b[0;34m\u001b[0m\u001b[0;34m\u001b[0m\u001b[0m\n\u001b[0m\u001b[1;32m     71\u001b[0m \u001b[0;32mimport\u001b[0m \u001b[0mbokeh\u001b[0m\u001b[0;34m.\u001b[0m\u001b[0mio\u001b[0m\u001b[0;34m\u001b[0m\u001b[0;34m\u001b[0m\u001b[0m\n\u001b[1;32m     72\u001b[0m \u001b[0;32mimport\u001b[0m \u001b[0mbokeh\u001b[0m\u001b[0;34m.\u001b[0m\u001b[0mplotting\u001b[0m\u001b[0;34m\u001b[0m\u001b[0;34m\u001b[0m\u001b[0m\n",
      "\u001b[0;31mModuleNotFoundError\u001b[0m: No module named 'dotenv'"
     ]
    }
   ],
   "source": [
    "from strym import strymread\n",
    "import strym\n",
    "import math\n",
    "import time\n",
    "import matplotlib.pyplot as plt\n",
    "import numpy as np\n",
    "import scipy.integrate as integrate"
   ]
  },
  {
   "cell_type": "markdown",
   "metadata": {},
   "source": [
    "## Specify Data Location"
   ]
  },
  {
   "cell_type": "code",
   "execution_count": null,
   "metadata": {},
   "outputs": [],
   "source": [
    "# datafolder = \"/Users/sprinkle/work/data/cyverse/rahulbhadani/JmscslgroupData/PandaData/2020_03_03/\"\n",
    "# import glob\n",
    "# csvlist = glob.glob(datafolder+\"*.csv\")\n",
    "# datafolder = \"/Users/sprinkle/work/data/cyverse/rahulbhadani/JmscslgroupData/PandaData/2020-03-05/\"\n",
    "# # print(csvlist)\n",
    "# for f in glob.glob(datafolder+\"*.csv\"):\n",
    "#     csvlist.append(f)\n",
    "# print(csvlist)"
   ]
  },
  {
   "cell_type": "code",
   "execution_count": null,
   "metadata": {},
   "outputs": [],
   "source": [
    "import glob\n",
    "parentfolder = \"/Users/sprinkle/work/data/cyverse/rahulbhadani/JmscslgroupData/PandaData/\"\n",
    "folderlist = glob.glob(parentfolder+\"*\")\n",
    "print(folderlist)\n",
    "csvlist = []\n",
    "for datafolder in folderlist:\n",
    "#     datafolder = \"/Users/sprinkle/work/data/cyverse/rahulbhadani/JmscslgroupData/PandaData/2020_03_03/\"\n",
    "    csvlisttmp = glob.glob(datafolder+\"/*.csv\")\n",
    "    for f in csvlisttmp:\n",
    "        csvlist.append(f)\n",
    "#print(csvlist)"
   ]
  },
  {
   "cell_type": "code",
   "execution_count": null,
   "metadata": {},
   "outputs": [],
   "source": [
    "num_of_files = len(csvlist)\n",
    "print(\"Total number of datafiles in {} is {}.\".format(datafolder, num_of_files))"
   ]
  },
  {
   "cell_type": "markdown",
   "metadata": {},
   "source": [
    "## Analysis\n",
    "### 1. CSV file containing all messages\n",
    "In this section, we will extract a subset of the CSV-formatted CAN Data in order to produce summary information of a specific drive."
   ]
  },
  {
   "cell_type": "code",
   "execution_count": null,
   "metadata": {},
   "outputs": [],
   "source": [
    "dbcfile = '../examples/newToyotacode.dbc'\n",
    "metadata = []\n",
    "for i in range(num_of_files):\n",
    "    try:\n",
    "        r0 = strymread(csvfile=csvlist[i], dbcfile=dbcfile)\n",
    "        print(f'Reading {csvlist[i]}')\n",
    "        duration1 = r0.dataframe['Time'][len(r0.dataframe)-1] - r0.dataframe['Time'][0]\n",
    "        duration_str = f'  Duration of this drive is {duration1} seconds ({math.trunc(int(duration1*1000)/(1000*60))} minutes {math.trunc(duration1 % 60)} seconds).'\n",
    "        start_str = f'  Starting date/time of the drive is {time.ctime(r0.dataframe[\"Time\"][0])}'\n",
    "\n",
    "        # get the speed timeseries information from the data file\n",
    "        speed_ts = r0.speed()\n",
    "        # turn the timeseries into a python array for integration\n",
    "        # transform from km/hr by multiplying 1000m/1km and 1 hr/3600s to get m/s\n",
    "        speed_ar = np.array(speed_ts['Message'])*1000/3600\n",
    "    #     speed_ar[0:-1]*1000/3600\n",
    "        # find the difference of the time values\n",
    "    #     dt = np.diff(np.array(speed_ts['Time']))\n",
    "        dt = np.diff(speed_ts['Time'])\n",
    "        # trapezoidal integration, divide by 1000 to get total km (rather than m)\n",
    "        # Commented out: this produces negative values that don't make sense\n",
    "    #     km_ts = np.trapz(y=speed_ar[0:-1],x=dt)/1000\n",
    "        km_ts = np.trapz(y=speed_ar,x=np.array(speed_ts['Time']))/1000\n",
    "        # commented out: this produces incorrect values that seem to be off by a factor of around 2, depending\n",
    "        km_dx = np.trapz(y=speed_ar,dx=0.02)/1000\n",
    "        # need to convert km/hr to km/s to get km later when integrating\n",
    "        distance_str = f'  The trip was {km_ts} km ({km_ts*3.1/5} miles)'\n",
    "    #     distance_str_dx f'  The dx version is {km_dx} km ({km_dx*3.1/5} miles)'\n",
    "\n",
    "        #speed_ts['Time']\n",
    "        #f'Total miles driven is {km_ts}'\n",
    "    #     print(duration_str)\n",
    "    #     print(start_str)\n",
    "    #     print(distance_str)\n",
    "    #     print('')\n",
    "        drive = { 'filename': csvlist[i], 'distance_km': km_ts, 'distance_miles': km_ts*3.1/5, 'duration_s': duration1, \n",
    "                 'date': time.ctime(r0.dataframe[\"Time\"][0]) }\n",
    "        metadata.append( drive )\n",
    "    except:\n",
    "        print('Unable to process file...')\n",
    "# print(metadata)"
   ]
  },
  {
   "cell_type": "code",
   "execution_count": null,
   "metadata": {},
   "outputs": [],
   "source": [
    "# how did we do?\n",
    "dist=0\n",
    "for d in metadata:\n",
    "    dist = dist + d['distance_miles']\n",
    "print(dist)"
   ]
  },
  {
   "cell_type": "code",
   "execution_count": null,
   "metadata": {},
   "outputs": [],
   "source": [
    "metadata"
   ]
  },
  {
   "cell_type": "code",
   "execution_count": null,
   "metadata": {},
   "outputs": [],
   "source": []
  }
 ],
 "metadata": {
  "kernelspec": {
   "display_name": "Python 3",
   "language": "python",
   "name": "python3"
  },
  "language_info": {
   "codemirror_mode": {
    "name": "ipython",
    "version": 3
   },
   "file_extension": ".py",
   "mimetype": "text/x-python",
   "name": "python",
   "nbconvert_exporter": "python",
   "pygments_lexer": "ipython3",
   "version": "3.7.4"
  }
 },
 "nbformat": 4,
 "nbformat_minor": 4
}
