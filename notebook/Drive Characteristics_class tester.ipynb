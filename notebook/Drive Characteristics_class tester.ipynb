{
 "cells": [
  {
   "cell_type": "markdown",
   "metadata": {},
   "source": [
    "# Drive characteristics using `strym`"
   ]
  },
  {
   "cell_type": "markdown",
   "metadata": {},
   "source": [
    "In this notebook, we will be calling the class version of the strym.meta function, which will produce a json formatted data sample for a particular drive. As that class evolves, so will this tester. The tester will have different options to call for specific files, folders, etc."
   ]
  },
  {
   "cell_type": "markdown",
   "metadata": {},
   "source": [
    "## You should already have installed `strym`\n",
    "First, we are required to install `strym`. For that, we will just use github devtools functionality.\n",
    "Even if you have installed `strym` previously, you should reinstall for latest version of the package."
   ]
  },
  {
   "cell_type": "code",
   "execution_count": 2,
   "metadata": {},
   "outputs": [
    {
     "name": "stdout",
     "output_type": "stream",
     "text": [
      "Processing /Users/sprinkle/work/research/circles/strym\n",
      "Building wheels for collected packages: strym\n",
      "  Building wheel for strym (setup.py) ... \u001b[?25ldone\n",
      "\u001b[?25h  Created wheel for strym: filename=strym-0.1.10-py3-none-any.whl size=70364 sha256=e36552b09dbca7f34868fe4c0ab2536dcd1f6ef9a26d0543ad001df7444c9918\n",
      "  Stored in directory: /private/var/folders/qb/xzd2v2fn741b459s8jvfjhk4000zl1/T/pip-ephem-wheel-cache-9mvdx6oy/wheels/54/7a/95/daddc427a6c6a768837990e1b98d077c913401def38e161584\n",
      "Successfully built strym\n",
      "Installing collected packages: strym\n",
      "  Attempting uninstall: strym\n",
      "    Found existing installation: strym 0.1.10\n",
      "    Uninstalling strym-0.1.10:\n",
      "      Successfully uninstalled strym-0.1.10\n",
      "Successfully installed strym-0.1.10\n"
     ]
    }
   ],
   "source": [
    "# Installing strym using pip\n",
    "#!pip install --upgrade strym \n",
    "#!pip install --upgrade --no-deps strym \n",
    "\n",
    "# modify the below for a specific version\n",
    "#!pip install --upgrade --no-deps strym  --force-reinstall strym==0.1.6\n",
    "# install from local FS to test my updates\n",
    "import sys\n",
    "#!{sys.executable} -m pip install --no-index --find-links --force-reinstall file:///Users/sprinkle/work/research/circles/strym\n",
    "!{sys.executable} -m pip install --no-deps file:///Users/sprinkle/work/research/circles/strym\n",
    "\n",
    "#!pip install strym --no-index --find-links file:///srv/pkg/mypackage"
   ]
  },
  {
   "cell_type": "markdown",
   "metadata": {},
   "source": [
    "## World's smallest test of strym.meta\n",
    "Import required package, then call on a specific file and print the output json"
   ]
  },
  {
   "cell_type": "code",
   "execution_count": 3,
   "metadata": {},
   "outputs": [
    {
     "name": "stdout",
     "output_type": "stream",
     "text": [
      "Reading /Users/sprinkle/work/data/cyverse/rahulbhadani/JmscslgroupData/PandaData/2020_05_11/2020-05-11-22-49-54_2T3Y1RFV8KC014025_CAN_Messages.csv\n"
     ]
    },
    {
     "data": {
      "text/plain": [
       "{'filepath': '/Users/sprinkle/work/data/cyverse/rahulbhadani/JmscslgroupData/PandaData/2020_05_11/2020-05-11-22-49-54_2T3Y1RFV8KC014025_CAN_Messages.csv',\n",
       " 'filename': '2020-05-11-22-49-54_2T3Y1RFV8KC014025_CAN_Messages.csv',\n",
       " 'vin': '2T3Y1RFV8KC014025',\n",
       " 'make': 'Toyota Canada',\n",
       " 'date': 'Mon May 11 22:49:55 2020',\n",
       " 'distance_km': 0.22084346597592036,\n",
       " 'distance_miles': 0.13692294890507062,\n",
       " 'duration_s': 40.231223821640015}"
      ]
     },
     "execution_count": 3,
     "metadata": {},
     "output_type": "execute_result"
    }
   ],
   "source": [
    "from strym import meta\n",
    "\n",
    "# test how this will work when calling from within another\n",
    "meta1 = meta(csvfile='/Users/sprinkle/work/data/cyverse/rahulbhadani/JmscslgroupData/PandaData/2020_05_11/2020-05-11-22-49-54_2T3Y1RFV8KC014025_CAN_Messages.csv',\n",
    "             dbcfile=['/Users/sprinkle/work/research/circles/strym/examples/newToyotacode.dbc'])\n",
    "meta1.toJSON()"
   ]
  },
  {
   "cell_type": "markdown",
   "metadata": {},
   "source": [
    "## Specify Data Location"
   ]
  },
  {
   "cell_type": "code",
   "execution_count": 4,
   "metadata": {},
   "outputs": [
    {
     "name": "stdout",
     "output_type": "stream",
     "text": [
      "['/Users/sprinkle/work/data/cyverse/rahulbhadani/JmscslgroupData/PandaData/2020_05_11']\n"
     ]
    }
   ],
   "source": [
    "parentfolder = \"/Users/sprinkle/work/data/cyverse/rahulbhadani/JmscslgroupData/PandaData/2020_05_11\"\n",
    "import glob\n",
    "folderlist = glob.glob(parentfolder+\"*\")\n",
    "print(folderlist)\n",
    "csvlist = []\n",
    "for datafolder in folderlist:\n",
    "#     datafolder = \"/Users/sprinkle/work/data/cyverse/rahulbhadani/JmscslgroupData/PandaData/2020_03_03/\"\n",
    "    import glob\n",
    "    csvlisttmp = glob.glob(datafolder+\"/*CAN_Messages.csv\")\n",
    "    for f in csvlisttmp:\n",
    "        csvlist.append(f)\n",
    "#print(csvlist)"
   ]
  },
  {
   "cell_type": "code",
   "execution_count": 5,
   "metadata": {},
   "outputs": [
    {
     "name": "stdout",
     "output_type": "stream",
     "text": [
      "Total number of datafiles in /Users/sprinkle/work/data/cyverse/rahulbhadani/JmscslgroupData/PandaData/2020_05_11 is 1.\n"
     ]
    }
   ],
   "source": [
    "num_of_files = len(csvlist)\n",
    "print(\"Total number of datafiles in {} is {}.\".format(datafolder, num_of_files))"
   ]
  },
  {
   "cell_type": "markdown",
   "metadata": {},
   "source": [
    "## Analysis\n",
    "### 1. CSV file containing all messages\n",
    "In this section, we will extract a subset of the CSV-formatted CAN Data in order to produce summary information of a specific drive."
   ]
  },
  {
   "cell_type": "code",
   "execution_count": 6,
   "metadata": {},
   "outputs": [
    {
     "name": "stdout",
     "output_type": "stream",
     "text": [
      "Reading /Users/sprinkle/work/data/cyverse/rahulbhadani/JmscslgroupData/PandaData/2020_05_11/2020-05-11-22-49-54_2T3Y1RFV8KC014025_CAN_Messages.csv\n"
     ]
    }
   ],
   "source": [
    "dbcfile = ['../examples/newToyotacode.dbc']\n",
    "metadata = []\n",
    "metaobjs = []\n",
    "for i in range(num_of_files):\n",
    "    try:\n",
    "        meta_i = meta(csvfile=csvlist[i], dbcfile=dbcfile)\n",
    "        drive = meta_i.toJSON()\n",
    "        metadata.append( drive )\n",
    "        metaobjs.append( meta_i )\n",
    "    except:\n",
    "        print('Unable to process file...')\n",
    "# print(metadata)"
   ]
  },
  {
   "cell_type": "code",
   "execution_count": 7,
   "metadata": {},
   "outputs": [
    {
     "name": "stdout",
     "output_type": "stream",
     "text": [
      "0.13692294890507062\n"
     ]
    }
   ],
   "source": [
    "# how did we do?\n",
    "dist=0\n",
    "for d in metadata:\n",
    "    dist = dist + d['distance_miles']\n",
    "print(dist)"
   ]
  },
  {
   "cell_type": "code",
   "execution_count": 8,
   "metadata": {},
   "outputs": [
    {
     "data": {
      "text/plain": [
       "[{'filepath': '/Users/sprinkle/work/data/cyverse/rahulbhadani/JmscslgroupData/PandaData/2020_05_11/2020-05-11-22-49-54_2T3Y1RFV8KC014025_CAN_Messages.csv',\n",
       "  'filename': '2020-05-11-22-49-54_2T3Y1RFV8KC014025_CAN_Messages.csv',\n",
       "  'vin': '2T3Y1RFV8KC014025',\n",
       "  'make': 'Toyota Canada',\n",
       "  'date': 'Mon May 11 22:49:55 2020',\n",
       "  'distance_km': 0.22084346597592036,\n",
       "  'distance_miles': 0.13692294890507062,\n",
       "  'duration_s': 40.231223821640015}]"
      ]
     },
     "execution_count": 8,
     "metadata": {},
     "output_type": "execute_result"
    }
   ],
   "source": [
    "metadata"
   ]
  },
  {
   "cell_type": "code",
   "execution_count": 9,
   "metadata": {},
   "outputs": [
    {
     "name": "stdout",
     "output_type": "stream",
     "text": [
      "/Users/sprinkle/work/data/cyverse/rahulbhadani/JmscslgroupData/PandaData/2020_05_11/2020-05-11-22-49-54_2T3Y1RFV8KC014025__metadata.json\n",
      "Writing to file /Users/sprinkle/work/data/cyverse/rahulbhadani/JmscslgroupData/PandaData/2020_05_11/2020-05-11-22-49-54_2T3Y1RFV8KC014025__metadata.json\n"
     ]
    }
   ],
   "source": [
    "## Dump the Data file\n",
    "for meta in metaobjs:\n",
    "    filename = meta.write()\n",
    "    print(f'Writing to file {filename}')\n",
    "    "
   ]
  },
  {
   "cell_type": "markdown",
   "metadata": {},
   "source": [
    "# Reading in JSON files as a Dashboard"
   ]
  },
  {
   "cell_type": "code",
   "execution_count": 10,
   "metadata": {},
   "outputs": [
    {
     "name": "stdout",
     "output_type": "stream",
     "text": [
      "Metadata entries: 422\n",
      "JSON files found: 422\n",
      "\n",
      "Total driving distance (miles): 3289.187634008077 (45 files not parsed)\n",
      "Total driving distance (km): 5305.141345174312 (45 files not parsed)\n"
     ]
    }
   ],
   "source": [
    "# Change this to your folder to gather all data that exists and generate the dashboard\n",
    "parentfolder = \"/Users/sprinkle/work/data/cyverse/rahulbhadani/JmscslgroupData/PandaData/\"\n",
    "\n",
    "from strym import dashboard\n",
    "try:\n",
    "    db = dashboard(directory=parentfolder,verbose=False)\n",
    "    print(db.statistics())\n",
    "    print(f'Total driving distance (miles): {db.miles()} ({db.error_count} files not parsed)')    \n",
    "    print(f'Total driving distance (km): {db.kilometers()} ({db.error_count} files not parsed)')\n",
    "\n",
    "except Exception as ex:\n",
    "    print(f'Exception when processing {directory} (msg={ex})')\n",
    "\n",
    "            \n",
    "# import strym.dashboard as dashboard\n",
    "\n",
    "# # find all the JSON files in this directory\n",
    "# parentfolder = \"/Users/sprinkle/work/data/cyverse/rahulbhadani/JmscslgroupData/PandaData/\"\n",
    "# import glob\n",
    "# folderlist = glob.glob(parentfolder+\"*\")\n",
    "# print(folderlist)\n",
    "# jsonlist = []\n",
    "# for datafolder in folderlist:\n",
    "# #     datafolder = \"/Users/sprinkle/work/data/cyverse/rahulbhadani/JmscslgroupData/PandaData/2020_03_03/\"\n",
    "#     import glob\n",
    "#     jsonlisttmp = glob.glob(datafolder+\"/*.json\")\n",
    "#     print(jsonlisttmp)\n",
    "#     if len(jsonlisttmp) > 0:\n",
    "#         for f in jsonlisttmp:\n",
    "#             jsonlist.append(f)\n",
    "\n",
    "# print(jsonlist)\n",
    "# metadata_dict = []\n",
    "\n",
    "# for json_file_str in jsonlist:\n",
    "#     try:\n",
    "#         with open(json_file_str) as json_file:\n",
    "#             data = json.load(json_file)\n",
    "#             metadata_dict.append(data)\n",
    "#     except Exception as ex:\n",
    "#         print(f'Skipping {json_file_str}, continuing (ex={ex})')\n",
    "    \n",
    "# dist=0\n",
    "# for d in metadata_dict:\n",
    "#     try:\n",
    "#         dist = dist + d['distance_miles']\n",
    "#     except Exception as ex:\n",
    "#         print(f'No key distance_miles in dictionary, skipping')\n",
    "# print(dist)"
   ]
  },
  {
   "cell_type": "code",
   "execution_count": null,
   "metadata": {},
   "outputs": [],
   "source": []
  }
 ],
 "metadata": {
  "kernelspec": {
   "display_name": "Python 3",
   "language": "python",
   "name": "python3"
  },
  "language_info": {
   "codemirror_mode": {
    "name": "ipython",
    "version": 3
   },
   "file_extension": ".py",
   "mimetype": "text/x-python",
   "name": "python",
   "nbconvert_exporter": "python",
   "pygments_lexer": "ipython3",
   "version": "3.7.7"
  }
 },
 "nbformat": 4,
 "nbformat_minor": 4
}
