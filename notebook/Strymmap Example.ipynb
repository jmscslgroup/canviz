{
 "cells": [
  {
   "cell_type": "code",
   "execution_count": 1,
   "metadata": {},
   "outputs": [],
   "source": [
    "import strym\n",
    "from strym import strymmap\n",
    "import matplotlib.pyplot as plt\n",
    "import pandas as pd\n",
    "import gmplot\n",
    "import gmaps"
   ]
  },
  {
   "cell_type": "code",
   "execution_count": 2,
   "metadata": {},
   "outputs": [
    {
     "name": "stdout",
     "output_type": "stream",
     "text": [
      "GPS signal first acquired at 2020-03-29 12:02:52:800000\n"
     ]
    }
   ],
   "source": [
    "datafolder='/home/ivory/CyverseData/JmscslgroupData/PandaData/2020_03_29/'\n",
    "file = '2020-03-29-12-02-12_GPS_Messages.csv'\n",
    "g = strymmap(csvfile=datafolder+file)\n",
    "g.dataframe = g.dataframe.dropna()"
   ]
  },
  {
   "cell_type": "code",
   "execution_count": 3,
   "metadata": {},
   "outputs": [
    {
     "data": {
      "application/vnd.jupyter.widget-view+json": {
       "model_id": "d0495c5a15e94c9c814fbf1aded47cd7",
       "version_major": 2,
       "version_minor": 0
      },
      "text/plain": [
       "Figure(layout=FigureLayout(height='420px'))"
      ]
     },
     "metadata": {},
     "output_type": "display_data"
    }
   ],
   "source": [
    "fig = g.plotroute()\n",
    "fig"
   ]
  }
 ],
 "metadata": {
  "kernelspec": {
   "display_name": "Python 3.7.5 64-bit ('dbn': conda)",
   "language": "python",
   "name": "python37564bitdbnconda0ff40c201a374a3db2aacabb837785f4"
  },
  "language_info": {
   "codemirror_mode": {
    "name": "ipython",
    "version": 3
   },
   "file_extension": ".py",
   "mimetype": "text/x-python",
   "name": "python",
   "nbconvert_exporter": "python",
   "pygments_lexer": "ipython3",
   "version": "3.7.5"
  }
 },
 "nbformat": 4,
 "nbformat_minor": 2
}
