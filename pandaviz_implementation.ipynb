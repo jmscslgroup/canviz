{
 "cells": [
  {
   "cell_type": "code",
   "execution_count": null,
   "metadata": {},
   "outputs": [],
   "source": [
    "# Author : Rahul Bhadani\n",
    "# Initial Date: Nov 11, 2019\n",
    "\n",
    "from pandaviz import pandaviz\n",
    "import cantools\n",
    "import sys, math, time\n",
    "import signal\n",
    "import subprocess, shlex\n",
    "from subprocess import call\n",
    "import psutil\n",
    "import glob\n",
    "import os\n",
    "\n",
    "# db = cantools.database.load_file('newToyotacode.dbc')\n",
    "db = 'newToyotacode.dbc'\n",
    "\n",
    "Viz = pandaviz(dbcfile = db)\n",
    "\n",
    "message_type_to_visualize = 'SPEED'\n",
    "message_attribute_number_to_visualize = 1\n",
    "\n",
    "Viz.visualize(message_type_to_visualize, message_attribute_number_to_visualize)\n",
    "\n",
    "signal.signal(signal.SIGINT, Viz.kill)\n",
    "\n",
    "print('Datafile saved is {}'.format(Viz.logfile))"
   ]
  },
  {
   "cell_type": "code",
   "execution_count": null,
   "metadata": {},
   "outputs": [],
   "source": [
    "bytearray(b'\\x00\\x00\\x00\\x00\\x99\\x00\\x00U')"
   ]
  },
  {
   "cell_type": "code",
   "execution_count": null,
   "metadata": {},
   "outputs": [],
   "source": [
    "s = bytearray(b'\\x00\\x00\\x00\\x00\\x99\\x00\\x00U')"
   ]
  },
  {
   "cell_type": "code",
   "execution_count": null,
   "metadata": {},
   "outputs": [],
   "source": [
    "bytes(s)"
   ]
  },
  {
   "cell_type": "code",
   "execution_count": null,
   "metadata": {},
   "outputs": [],
   "source": []
  }
 ],
 "metadata": {
  "kernelspec": {
   "display_name": "Python 3",
   "language": "python",
   "name": "python3"
  },
  "language_info": {
   "codemirror_mode": {
    "name": "ipython",
    "version": 3
   },
   "file_extension": ".py",
   "mimetype": "text/x-python",
   "name": "python",
   "nbconvert_exporter": "python",
   "pygments_lexer": "ipython3",
   "version": "3.7.3"
  }
 },
 "nbformat": 4,
 "nbformat_minor": 2
}
